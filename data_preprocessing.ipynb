{
 "cells": [
  {
   "cell_type": "code",
   "execution_count": 10,
   "metadata": {},
   "outputs": [],
   "source": [
    "import pandas as pd\n",
    "import seaborn as sns\n",
    "import matplotlib.pyplot as plt"
   ]
  },
  {
   "cell_type": "code",
   "execution_count": 6,
   "metadata": {},
   "outputs": [],
   "source": [
    "df = pd.read_csv(\"./data/data.csv\")"
   ]
  },
  {
   "cell_type": "code",
   "execution_count": 7,
   "metadata": {},
   "outputs": [
    {
     "data": {
      "text/html": [
       "<div>\n",
       "<style scoped>\n",
       "    .dataframe tbody tr th:only-of-type {\n",
       "        vertical-align: middle;\n",
       "    }\n",
       "\n",
       "    .dataframe tbody tr th {\n",
       "        vertical-align: top;\n",
       "    }\n",
       "\n",
       "    .dataframe thead th {\n",
       "        text-align: right;\n",
       "    }\n",
       "</style>\n",
       "<table border=\"1\" class=\"dataframe\">\n",
       "  <thead>\n",
       "    <tr style=\"text-align: right;\">\n",
       "      <th></th>\n",
       "      <th>trip_id</th>\n",
       "      <th>trip_start_time</th>\n",
       "      <th>trip_duration_seconds</th>\n",
       "      <th>user_type</th>\n",
       "      <th>station_id_from</th>\n",
       "      <th>name_from</th>\n",
       "      <th>lat_from</th>\n",
       "      <th>lon_from</th>\n",
       "      <th>station_id_to</th>\n",
       "      <th>name_to</th>\n",
       "      <th>lat_to</th>\n",
       "      <th>lon_to</th>\n",
       "    </tr>\n",
       "  </thead>\n",
       "  <tbody>\n",
       "    <tr>\n",
       "      <th>0</th>\n",
       "      <td>712382</td>\n",
       "      <td>31-12-2016 20:00</td>\n",
       "      <td>223</td>\n",
       "      <td>Member</td>\n",
       "      <td>7051</td>\n",
       "      <td>Wellesley St E / Yonge St Green P</td>\n",
       "      <td>43.66506</td>\n",
       "      <td>-79.38357</td>\n",
       "      <td>7089</td>\n",
       "      <td>Church St  / Wood St</td>\n",
       "      <td>43.662712</td>\n",
       "      <td>-79.379903</td>\n",
       "    </tr>\n",
       "    <tr>\n",
       "      <th>1</th>\n",
       "      <td>719668</td>\n",
       "      <td>06-01-2017 20:32</td>\n",
       "      <td>162</td>\n",
       "      <td>Member</td>\n",
       "      <td>7051</td>\n",
       "      <td>Wellesley St E / Yonge St Green P</td>\n",
       "      <td>43.66506</td>\n",
       "      <td>-79.38357</td>\n",
       "      <td>7089</td>\n",
       "      <td>Church St  / Wood St</td>\n",
       "      <td>43.662712</td>\n",
       "      <td>-79.379903</td>\n",
       "    </tr>\n",
       "    <tr>\n",
       "      <th>2</th>\n",
       "      <td>720949</td>\n",
       "      <td>08-01-2017 20:52</td>\n",
       "      <td>194</td>\n",
       "      <td>Member</td>\n",
       "      <td>7051</td>\n",
       "      <td>Wellesley St E / Yonge St Green P</td>\n",
       "      <td>43.66506</td>\n",
       "      <td>-79.38357</td>\n",
       "      <td>7089</td>\n",
       "      <td>Church St  / Wood St</td>\n",
       "      <td>43.662712</td>\n",
       "      <td>-79.379903</td>\n",
       "    </tr>\n",
       "    <tr>\n",
       "      <th>3</th>\n",
       "      <td>722433</td>\n",
       "      <td>09-01-2017 20:28</td>\n",
       "      <td>159</td>\n",
       "      <td>Member</td>\n",
       "      <td>7051</td>\n",
       "      <td>Wellesley St E / Yonge St Green P</td>\n",
       "      <td>43.66506</td>\n",
       "      <td>-79.38357</td>\n",
       "      <td>7089</td>\n",
       "      <td>Church St  / Wood St</td>\n",
       "      <td>43.662712</td>\n",
       "      <td>-79.379903</td>\n",
       "    </tr>\n",
       "    <tr>\n",
       "      <th>4</th>\n",
       "      <td>740570</td>\n",
       "      <td>20-01-2017 12:53</td>\n",
       "      <td>222</td>\n",
       "      <td>Member</td>\n",
       "      <td>7051</td>\n",
       "      <td>Wellesley St E / Yonge St Green P</td>\n",
       "      <td>43.66506</td>\n",
       "      <td>-79.38357</td>\n",
       "      <td>7089</td>\n",
       "      <td>Church St  / Wood St</td>\n",
       "      <td>43.662712</td>\n",
       "      <td>-79.379903</td>\n",
       "    </tr>\n",
       "  </tbody>\n",
       "</table>\n",
       "</div>"
      ],
      "text/plain": [
       "   trip_id   trip_start_time  trip_duration_seconds user_type  \\\n",
       "0   712382  31-12-2016 20:00                    223    Member   \n",
       "1   719668  06-01-2017 20:32                    162    Member   \n",
       "2   720949  08-01-2017 20:52                    194    Member   \n",
       "3   722433  09-01-2017 20:28                    159    Member   \n",
       "4   740570  20-01-2017 12:53                    222    Member   \n",
       "\n",
       "   station_id_from                          name_from  lat_from  lon_from  \\\n",
       "0             7051  Wellesley St E / Yonge St Green P  43.66506 -79.38357   \n",
       "1             7051  Wellesley St E / Yonge St Green P  43.66506 -79.38357   \n",
       "2             7051  Wellesley St E / Yonge St Green P  43.66506 -79.38357   \n",
       "3             7051  Wellesley St E / Yonge St Green P  43.66506 -79.38357   \n",
       "4             7051  Wellesley St E / Yonge St Green P  43.66506 -79.38357   \n",
       "\n",
       "   station_id_to               name_to     lat_to     lon_to  \n",
       "0           7089  Church St  / Wood St  43.662712 -79.379903  \n",
       "1           7089  Church St  / Wood St  43.662712 -79.379903  \n",
       "2           7089  Church St  / Wood St  43.662712 -79.379903  \n",
       "3           7089  Church St  / Wood St  43.662712 -79.379903  \n",
       "4           7089  Church St  / Wood St  43.662712 -79.379903  "
      ]
     },
     "execution_count": 7,
     "metadata": {},
     "output_type": "execute_result"
    }
   ],
   "source": [
    "df.head()"
   ]
  },
  {
   "cell_type": "code",
   "execution_count": 8,
   "metadata": {},
   "outputs": [
    {
     "data": {
      "text/html": [
       "<div>\n",
       "<style scoped>\n",
       "    .dataframe tbody tr th:only-of-type {\n",
       "        vertical-align: middle;\n",
       "    }\n",
       "\n",
       "    .dataframe tbody tr th {\n",
       "        vertical-align: top;\n",
       "    }\n",
       "\n",
       "    .dataframe thead th {\n",
       "        text-align: right;\n",
       "    }\n",
       "</style>\n",
       "<table border=\"1\" class=\"dataframe\">\n",
       "  <thead>\n",
       "    <tr style=\"text-align: right;\">\n",
       "      <th></th>\n",
       "      <th>trip_id</th>\n",
       "      <th>trip_duration_seconds</th>\n",
       "      <th>station_id_from</th>\n",
       "      <th>lat_from</th>\n",
       "      <th>lon_from</th>\n",
       "      <th>station_id_to</th>\n",
       "      <th>lat_to</th>\n",
       "      <th>lon_to</th>\n",
       "    </tr>\n",
       "  </thead>\n",
       "  <tbody>\n",
       "    <tr>\n",
       "      <th>count</th>\n",
       "      <td>1.048575e+06</td>\n",
       "      <td>1.048575e+06</td>\n",
       "      <td>1.048575e+06</td>\n",
       "      <td>1.048575e+06</td>\n",
       "      <td>1.048575e+06</td>\n",
       "      <td>1.048575e+06</td>\n",
       "      <td>1.048575e+06</td>\n",
       "      <td>1.048575e+06</td>\n",
       "    </tr>\n",
       "    <tr>\n",
       "      <th>mean</th>\n",
       "      <td>1.472312e+06</td>\n",
       "      <td>9.552319e+02</td>\n",
       "      <td>7.090282e+03</td>\n",
       "      <td>4.365465e+01</td>\n",
       "      <td>-7.938894e+01</td>\n",
       "      <td>7.072516e+03</td>\n",
       "      <td>4.365409e+01</td>\n",
       "      <td>-7.938710e+01</td>\n",
       "    </tr>\n",
       "    <tr>\n",
       "      <th>std</th>\n",
       "      <td>4.839370e+05</td>\n",
       "      <td>1.027557e+04</td>\n",
       "      <td>7.853939e+01</td>\n",
       "      <td>1.031055e-02</td>\n",
       "      <td>1.777368e-02</td>\n",
       "      <td>5.877809e+01</td>\n",
       "      <td>9.506940e-03</td>\n",
       "      <td>1.622448e-02</td>\n",
       "    </tr>\n",
       "    <tr>\n",
       "      <th>min</th>\n",
       "      <td>7.123820e+05</td>\n",
       "      <td>2.000000e+00</td>\n",
       "      <td>7.000000e+03</td>\n",
       "      <td>4.362244e+01</td>\n",
       "      <td>-7.948028e+01</td>\n",
       "      <td>7.000000e+03</td>\n",
       "      <td>4.363661e+01</td>\n",
       "      <td>-7.945167e+01</td>\n",
       "    </tr>\n",
       "    <tr>\n",
       "      <th>25%</th>\n",
       "      <td>1.049328e+06</td>\n",
       "      <td>4.065000e+02</td>\n",
       "      <td>7.030000e+03</td>\n",
       "      <td>4.364616e+01</td>\n",
       "      <td>-7.939844e+01</td>\n",
       "      <td>7.027000e+03</td>\n",
       "      <td>4.364656e+01</td>\n",
       "      <td>-7.939627e+01</td>\n",
       "    </tr>\n",
       "    <tr>\n",
       "      <th>50%</th>\n",
       "      <td>1.425174e+06</td>\n",
       "      <td>6.320000e+02</td>\n",
       "      <td>7.061000e+03</td>\n",
       "      <td>4.365326e+01</td>\n",
       "      <td>-7.938750e+01</td>\n",
       "      <td>7.054000e+03</td>\n",
       "      <td>4.365263e+01</td>\n",
       "      <td>-7.938553e+01</td>\n",
       "    </tr>\n",
       "    <tr>\n",
       "      <th>75%</th>\n",
       "      <td>1.887214e+06</td>\n",
       "      <td>9.670000e+02</td>\n",
       "      <td>7.144000e+03</td>\n",
       "      <td>4.366228e+01</td>\n",
       "      <td>-7.937990e+01</td>\n",
       "      <td>7.104000e+03</td>\n",
       "      <td>4.366167e+01</td>\n",
       "      <td>-7.937905e+01</td>\n",
       "    </tr>\n",
       "    <tr>\n",
       "      <th>max</th>\n",
       "      <td>2.383646e+06</td>\n",
       "      <td>6.382030e+06</td>\n",
       "      <td>7.488000e+03</td>\n",
       "      <td>4.369402e+01</td>\n",
       "      <td>-7.928898e+01</td>\n",
       "      <td>7.275000e+03</td>\n",
       "      <td>4.368338e+01</td>\n",
       "      <td>-7.932296e+01</td>\n",
       "    </tr>\n",
       "  </tbody>\n",
       "</table>\n",
       "</div>"
      ],
      "text/plain": [
       "            trip_id  trip_duration_seconds  station_id_from      lat_from  \\\n",
       "count  1.048575e+06           1.048575e+06     1.048575e+06  1.048575e+06   \n",
       "mean   1.472312e+06           9.552319e+02     7.090282e+03  4.365465e+01   \n",
       "std    4.839370e+05           1.027557e+04     7.853939e+01  1.031055e-02   \n",
       "min    7.123820e+05           2.000000e+00     7.000000e+03  4.362244e+01   \n",
       "25%    1.049328e+06           4.065000e+02     7.030000e+03  4.364616e+01   \n",
       "50%    1.425174e+06           6.320000e+02     7.061000e+03  4.365326e+01   \n",
       "75%    1.887214e+06           9.670000e+02     7.144000e+03  4.366228e+01   \n",
       "max    2.383646e+06           6.382030e+06     7.488000e+03  4.369402e+01   \n",
       "\n",
       "           lon_from  station_id_to        lat_to        lon_to  \n",
       "count  1.048575e+06   1.048575e+06  1.048575e+06  1.048575e+06  \n",
       "mean  -7.938894e+01   7.072516e+03  4.365409e+01 -7.938710e+01  \n",
       "std    1.777368e-02   5.877809e+01  9.506940e-03  1.622448e-02  \n",
       "min   -7.948028e+01   7.000000e+03  4.363661e+01 -7.945167e+01  \n",
       "25%   -7.939844e+01   7.027000e+03  4.364656e+01 -7.939627e+01  \n",
       "50%   -7.938750e+01   7.054000e+03  4.365263e+01 -7.938553e+01  \n",
       "75%   -7.937990e+01   7.104000e+03  4.366167e+01 -7.937905e+01  \n",
       "max   -7.928898e+01   7.275000e+03  4.368338e+01 -7.932296e+01  "
      ]
     },
     "execution_count": 8,
     "metadata": {},
     "output_type": "execute_result"
    }
   ],
   "source": [
    "df.describe()"
   ]
  },
  {
   "cell_type": "code",
   "execution_count": 11,
   "metadata": {},
   "outputs": [
    {
     "data": {
      "image/png": "[encoded data removed]",
      "text/plain": [
       "<Figure size 1152x648 with 1 Axes>"
      ]
     },
     "metadata": {},
     "output_type": "display_data"
    }
   ],
   "source": [
    "sns.set_style('dark')\n",
    "\n",
    "fig, ax = plt.subplots(1, 1, figsize = (16, 9))\n",
    "sns.distplot(df['trip_duration_seconds'], hist = False, ax = ax)\n",
    "\n",
    "plt.savefig('./visualization/raw_distribution.png')"
   ]
  },
  {
   "cell_type": "markdown",
   "metadata": {},
   "source": [
    "As visible from the above distribution of the \"trip_duration_seconds\" columns, there is a massive peak at the 0 seconds mark.<br>This may visualize those people who are trying out how to start a trip but do not necessarily want to ride the bike at that time.<br>Hence, we can remove all ride data that lasts less than 60 seconds"
   ]
  },
  {
   "cell_type": "code",
   "execution_count": 12,
   "metadata": {},
   "outputs": [
    {
     "data": {
      "text/plain": [
       "(1048575, 12)"
      ]
     },
     "execution_count": 12,
     "metadata": {},
     "output_type": "execute_result"
    }
   ],
   "source": [
    "df.shape"
   ]
  },
  {
   "cell_type": "markdown",
   "metadata": {},
   "source": [
    "### Removing any Trips that are Less Than 60 Seconds"
   ]
  },
  {
   "cell_type": "code",
   "execution_count": 13,
   "metadata": {},
   "outputs": [],
   "source": [
    "df = df[(df['trip_duration_seconds'] >= 60)]"
   ]
  },
  {
   "cell_type": "code",
   "execution_count": 14,
   "metadata": {},
   "outputs": [
    {
     "data": {
      "text/html": [
       "<div>\n",
       "<style scoped>\n",
       "    .dataframe tbody tr th:only-of-type {\n",
       "        vertical-align: middle;\n",
       "    }\n",
       "\n",
       "    .dataframe tbody tr th {\n",
       "        vertical-align: top;\n",
       "    }\n",
       "\n",
       "    .dataframe thead th {\n",
       "        text-align: right;\n",
       "    }\n",
       "</style>\n",
       "<table border=\"1\" class=\"dataframe\">\n",
       "  <thead>\n",
       "    <tr style=\"text-align: right;\">\n",
       "      <th></th>\n",
       "      <th>trip_id</th>\n",
       "      <th>trip_duration_seconds</th>\n",
       "      <th>station_id_from</th>\n",
       "      <th>lat_from</th>\n",
       "      <th>lon_from</th>\n",
       "      <th>station_id_to</th>\n",
       "      <th>lat_to</th>\n",
       "      <th>lon_to</th>\n",
       "    </tr>\n",
       "  </thead>\n",
       "  <tbody>\n",
       "    <tr>\n",
       "      <th>count</th>\n",
       "      <td>1.029333e+06</td>\n",
       "      <td>1.029333e+06</td>\n",
       "      <td>1.029333e+06</td>\n",
       "      <td>1.029333e+06</td>\n",
       "      <td>1.029333e+06</td>\n",
       "      <td>1.029333e+06</td>\n",
       "      <td>1.029333e+06</td>\n",
       "      <td>1.029333e+06</td>\n",
       "    </tr>\n",
       "    <tr>\n",
       "      <th>mean</th>\n",
       "      <td>1.468018e+06</td>\n",
       "      <td>9.726062e+02</td>\n",
       "      <td>7.090586e+03</td>\n",
       "      <td>4.365468e+01</td>\n",
       "      <td>-7.938897e+01</td>\n",
       "      <td>7.072514e+03</td>\n",
       "      <td>4.365411e+01</td>\n",
       "      <td>-7.938710e+01</td>\n",
       "    </tr>\n",
       "    <tr>\n",
       "      <th>std</th>\n",
       "      <td>4.855546e+05</td>\n",
       "      <td>1.037037e+04</td>\n",
       "      <td>7.875299e+01</td>\n",
       "      <td>1.030507e-02</td>\n",
       "      <td>1.779570e-02</td>\n",
       "      <td>5.870980e+01</td>\n",
       "      <td>9.487454e-03</td>\n",
       "      <td>1.622042e-02</td>\n",
       "    </tr>\n",
       "    <tr>\n",
       "      <th>min</th>\n",
       "      <td>7.123820e+05</td>\n",
       "      <td>6.000000e+01</td>\n",
       "      <td>7.000000e+03</td>\n",
       "      <td>4.362244e+01</td>\n",
       "      <td>-7.948028e+01</td>\n",
       "      <td>7.000000e+03</td>\n",
       "      <td>4.363661e+01</td>\n",
       "      <td>-7.945167e+01</td>\n",
       "    </tr>\n",
       "    <tr>\n",
       "      <th>25%</th>\n",
       "      <td>1.043012e+06</td>\n",
       "      <td>4.190000e+02</td>\n",
       "      <td>7.030000e+03</td>\n",
       "      <td>4.364655e+01</td>\n",
       "      <td>-7.939845e+01</td>\n",
       "      <td>7.027000e+03</td>\n",
       "      <td>4.364656e+01</td>\n",
       "      <td>-7.939627e+01</td>\n",
       "    </tr>\n",
       "    <tr>\n",
       "      <th>50%</th>\n",
       "      <td>1.416834e+06</td>\n",
       "      <td>6.420000e+02</td>\n",
       "      <td>7.062000e+03</td>\n",
       "      <td>4.365326e+01</td>\n",
       "      <td>-7.938750e+01</td>\n",
       "      <td>7.054000e+03</td>\n",
       "      <td>4.365263e+01</td>\n",
       "      <td>-7.938553e+01</td>\n",
       "    </tr>\n",
       "    <tr>\n",
       "      <th>75%</th>\n",
       "      <td>1.885663e+06</td>\n",
       "      <td>9.750000e+02</td>\n",
       "      <td>7.146000e+03</td>\n",
       "      <td>4.366237e+01</td>\n",
       "      <td>-7.938004e+01</td>\n",
       "      <td>7.104000e+03</td>\n",
       "      <td>4.366167e+01</td>\n",
       "      <td>-7.937905e+01</td>\n",
       "    </tr>\n",
       "    <tr>\n",
       "      <th>max</th>\n",
       "      <td>2.383646e+06</td>\n",
       "      <td>6.382030e+06</td>\n",
       "      <td>7.488000e+03</td>\n",
       "      <td>4.369402e+01</td>\n",
       "      <td>-7.928898e+01</td>\n",
       "      <td>7.275000e+03</td>\n",
       "      <td>4.368338e+01</td>\n",
       "      <td>-7.932296e+01</td>\n",
       "    </tr>\n",
       "  </tbody>\n",
       "</table>\n",
       "</div>"
      ],
      "text/plain": [
       "            trip_id  trip_duration_seconds  station_id_from      lat_from  \\\n",
       "count  1.029333e+06           1.029333e+06     1.029333e+06  1.029333e+06   \n",
       "mean   1.468018e+06           9.726062e+02     7.090586e+03  4.365468e+01   \n",
       "std    4.855546e+05           1.037037e+04     7.875299e+01  1.030507e-02   \n",
       "min    7.123820e+05           6.000000e+01     7.000000e+03  4.362244e+01   \n",
       "25%    1.043012e+06           4.190000e+02     7.030000e+03  4.364655e+01   \n",
       "50%    1.416834e+06           6.420000e+02     7.062000e+03  4.365326e+01   \n",
       "75%    1.885663e+06           9.750000e+02     7.146000e+03  4.366237e+01   \n",
       "max    2.383646e+06           6.382030e+06     7.488000e+03  4.369402e+01   \n",
       "\n",
       "           lon_from  station_id_to        lat_to        lon_to  \n",
       "count  1.029333e+06   1.029333e+06  1.029333e+06  1.029333e+06  \n",
       "mean  -7.938897e+01   7.072514e+03  4.365411e+01 -7.938710e+01  \n",
       "std    1.779570e-02   5.870980e+01  9.487454e-03  1.622042e-02  \n",
       "min   -7.948028e+01   7.000000e+03  4.363661e+01 -7.945167e+01  \n",
       "25%   -7.939845e+01   7.027000e+03  4.364656e+01 -7.939627e+01  \n",
       "50%   -7.938750e+01   7.054000e+03  4.365263e+01 -7.938553e+01  \n",
       "75%   -7.938004e+01   7.104000e+03  4.366167e+01 -7.937905e+01  \n",
       "max   -7.928898e+01   7.275000e+03  4.368338e+01 -7.932296e+01  "
      ]
     },
     "execution_count": 14,
     "metadata": {},
     "output_type": "execute_result"
    }
   ],
   "source": [
    "df.describe()"
   ]
  },
  {
   "cell_type": "code",
   "execution_count": 15,
   "metadata": {},
   "outputs": [
    {
     "data": {
      "text/plain": [
       "(1029333, 12)"
      ]
     },
     "execution_count": 15,
     "metadata": {},
     "output_type": "execute_result"
    }
   ],
   "source": [
    "df.shape"
   ]
  },
  {
   "cell_type": "markdown",
   "metadata": {},
   "source": [
    "### Removing any Outliers in the Data"
   ]
  },
  {
   "cell_type": "code",
   "execution_count": 16,
   "metadata": {},
   "outputs": [],
   "source": [
    "q1 = df['trip_duration_seconds'].quantile(0.25)\n",
    "q3 = df['trip_duration_seconds'].quantile(0.75)\n",
    "interquartile_range = q3 - q1\n",
    "\n",
    "df = df[~((df['trip_duration_seconds'] < (q1 - 1.5 * interquartile_range)) | (df['trip_duration_seconds'] > (q3 + 1.5 * interquartile_range)))].reset_index(drop = True)"
   ]
  },
  {
   "cell_type": "code",
   "execution_count": 17,
   "metadata": {},
   "outputs": [
    {
     "data": {
      "text/plain": [
       "(974411, 12)"
      ]
     },
     "execution_count": 17,
     "metadata": {},
     "output_type": "execute_result"
    }
   ],
   "source": [
    "df.shape"
   ]
  },
  {
   "cell_type": "code",
   "execution_count": 18,
   "metadata": {},
   "outputs": [],
   "source": [
    "df.to_csv('./data/cyclist_data.csv', index = False)"
   ]
  }
 ],
 "metadata": {
  "kernelspec": {
   "display_name": "Python 3",
   "language": "python",
   "name": "python3"
  },
  "language_info": {
   "codemirror_mode": {
    "name": "ipython",
    "version": 3
   },
   "file_extension": ".py",
   "mimetype": "text/x-python",
   "name": "python",
   "nbconvert_exporter": "python",
   "pygments_lexer": "ipython3",
   "version": "3.7.6"
  }
 },
 "nbformat": 4,
 "nbformat_minor": 4
}
